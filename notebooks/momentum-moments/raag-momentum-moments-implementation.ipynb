{
 "cells": [
  {
   "cell_type": "code",
   "execution_count": 13,
   "metadata": {
    "collapsed": true
   },
   "outputs": [],
   "source": [
    "import pandas as pd\n",
    "import matplotlib.pyplot as plt"
   ]
  },
  {
   "cell_type": "markdown",
   "metadata": {},
   "source": [
    "### Paper: http://docentes.fe.unl.pt/~psc/MomentumMoments.pdf"
   ]
  },
  {
   "cell_type": "markdown",
   "metadata": {},
   "source": [
    "# Data from Kenneth R. French Data Library\n",
    "http://mba.tuck.dartmouth.edu/pages/faculty/ken.french/data_library.html"
   ]
  },
  {
   "cell_type": "markdown",
   "metadata": {},
   "source": [
    "## Detail for 10 Portfolios Formed Monthly on Momentum\n",
    "\n",
    "**Monthly Returns:** January 1927 - May 2017\n",
    "\n",
    "**Construction**: The portfolios are constructed monthly using NYSE prior (2-12) return decile breakpoints.\n",
    " \t \t \n",
    "**Stocks:**\tThe portfolios constructed each month include NYSE, AMEX, and NASDAQ stocks with prior return data. To be included in a portfolio for month t (formed at the end of month t-1), a stock must have a price for the end of month t-13 and a good return for t-2. In addition, any missing returns from t-12 to t-3 must be -99.0, CRSP's code for a missing price. Each included stock also must have ME for the end of month t-1."
   ]
  },
  {
   "cell_type": "code",
   "execution_count": 14,
   "metadata": {
    "collapsed": false
   },
   "outputs": [],
   "source": [
    "momentum_returns_df = pd.read_csv('/Users/anuraaggopaluni/bualpha/research-papers/notebooks/momentum-moments/Momentum new.csv')"
   ]
  },
  {
   "cell_type": "code",
   "execution_count": 15,
   "metadata": {
    "collapsed": false
   },
   "outputs": [
    {
     "data": {
      "text/html": [
       "<div>\n",
       "<table border=\"1\" class=\"dataframe\">\n",
       "  <thead>\n",
       "    <tr style=\"text-align: right;\">\n",
       "      <th></th>\n",
       "      <th>Unnamed: 0</th>\n",
       "      <th>Lo PRIOR</th>\n",
       "      <th>PRIOR 2</th>\n",
       "      <th>PRIOR 3</th>\n",
       "      <th>PRIOR 4</th>\n",
       "      <th>PRIOR 5</th>\n",
       "      <th>PRIOR 6</th>\n",
       "      <th>PRIOR 7</th>\n",
       "      <th>PRIOR 8</th>\n",
       "      <th>PRIOR 9</th>\n",
       "      <th>Hi PRIOR</th>\n",
       "    </tr>\n",
       "  </thead>\n",
       "  <tbody>\n",
       "    <tr>\n",
       "      <th>0</th>\n",
       "      <td>192701</td>\n",
       "      <td>-3.32</td>\n",
       "      <td>-4.62</td>\n",
       "      <td>2.66</td>\n",
       "      <td>-0.32</td>\n",
       "      <td>-0.41</td>\n",
       "      <td>0.96</td>\n",
       "      <td>0.77</td>\n",
       "      <td>0.36</td>\n",
       "      <td>-0.43</td>\n",
       "      <td>-0.24</td>\n",
       "    </tr>\n",
       "    <tr>\n",
       "      <th>1</th>\n",
       "      <td>192702</td>\n",
       "      <td>7.49</td>\n",
       "      <td>6.01</td>\n",
       "      <td>8.33</td>\n",
       "      <td>7.51</td>\n",
       "      <td>3.80</td>\n",
       "      <td>4.16</td>\n",
       "      <td>2.81</td>\n",
       "      <td>3.28</td>\n",
       "      <td>4.21</td>\n",
       "      <td>6.96</td>\n",
       "    </tr>\n",
       "    <tr>\n",
       "      <th>2</th>\n",
       "      <td>192703</td>\n",
       "      <td>-3.20</td>\n",
       "      <td>-2.99</td>\n",
       "      <td>-3.98</td>\n",
       "      <td>-4.76</td>\n",
       "      <td>-0.48</td>\n",
       "      <td>-2.40</td>\n",
       "      <td>2.10</td>\n",
       "      <td>0.61</td>\n",
       "      <td>0.89</td>\n",
       "      <td>5.47</td>\n",
       "    </tr>\n",
       "    <tr>\n",
       "      <th>3</th>\n",
       "      <td>192704</td>\n",
       "      <td>1.53</td>\n",
       "      <td>-2.87</td>\n",
       "      <td>-2.46</td>\n",
       "      <td>-1.34</td>\n",
       "      <td>2.59</td>\n",
       "      <td>-0.13</td>\n",
       "      <td>2.05</td>\n",
       "      <td>-0.59</td>\n",
       "      <td>1.64</td>\n",
       "      <td>5.49</td>\n",
       "    </tr>\n",
       "    <tr>\n",
       "      <th>4</th>\n",
       "      <td>192705</td>\n",
       "      <td>3.98</td>\n",
       "      <td>4.39</td>\n",
       "      <td>5.90</td>\n",
       "      <td>3.15</td>\n",
       "      <td>6.25</td>\n",
       "      <td>5.92</td>\n",
       "      <td>4.66</td>\n",
       "      <td>6.59</td>\n",
       "      <td>8.16</td>\n",
       "      <td>6.24</td>\n",
       "    </tr>\n",
       "  </tbody>\n",
       "</table>\n",
       "</div>"
      ],
      "text/plain": [
       "   Unnamed: 0  Lo PRIOR  PRIOR 2  PRIOR 3  PRIOR 4  PRIOR 5  PRIOR 6  PRIOR 7  \\\n",
       "0      192701     -3.32    -4.62     2.66    -0.32    -0.41     0.96     0.77   \n",
       "1      192702      7.49     6.01     8.33     7.51     3.80     4.16     2.81   \n",
       "2      192703     -3.20    -2.99    -3.98    -4.76    -0.48    -2.40     2.10   \n",
       "3      192704      1.53    -2.87    -2.46    -1.34     2.59    -0.13     2.05   \n",
       "4      192705      3.98     4.39     5.90     3.15     6.25     5.92     4.66   \n",
       "\n",
       "   PRIOR 8  PRIOR 9  Hi PRIOR  \n",
       "0     0.36    -0.43     -0.24  \n",
       "1     3.28     4.21      6.96  \n",
       "2     0.61     0.89      5.47  \n",
       "3    -0.59     1.64      5.49  \n",
       "4     6.59     8.16      6.24  "
      ]
     },
     "execution_count": 15,
     "metadata": {},
     "output_type": "execute_result"
    }
   ],
   "source": [
    "momentum_returns_df.head()"
   ]
  },
  {
   "cell_type": "code",
   "execution_count": 16,
   "metadata": {
    "collapsed": false
   },
   "outputs": [
    {
     "data": {
      "text/plain": [
       "(1085, 11)"
      ]
     },
     "execution_count": 16,
     "metadata": {},
     "output_type": "execute_result"
    }
   ],
   "source": [
    "momentum_returns_df.shape"
   ]
  },
  {
   "cell_type": "code",
   "execution_count": 17,
   "metadata": {
    "collapsed": false
   },
   "outputs": [
    {
     "data": {
      "text/html": [
       "<div>\n",
       "<table border=\"1\" class=\"dataframe\">\n",
       "  <thead>\n",
       "    <tr style=\"text-align: right;\">\n",
       "      <th></th>\n",
       "      <th>month</th>\n",
       "      <th>1</th>\n",
       "      <th>2</th>\n",
       "      <th>3</th>\n",
       "      <th>4</th>\n",
       "      <th>5</th>\n",
       "      <th>6</th>\n",
       "      <th>7</th>\n",
       "      <th>8</th>\n",
       "      <th>9</th>\n",
       "      <th>10</th>\n",
       "    </tr>\n",
       "  </thead>\n",
       "  <tbody>\n",
       "    <tr>\n",
       "      <th>0</th>\n",
       "      <td>192701</td>\n",
       "      <td>-3.32</td>\n",
       "      <td>-4.62</td>\n",
       "      <td>2.66</td>\n",
       "      <td>-0.32</td>\n",
       "      <td>-0.41</td>\n",
       "      <td>0.96</td>\n",
       "      <td>0.77</td>\n",
       "      <td>0.36</td>\n",
       "      <td>-0.43</td>\n",
       "      <td>-0.24</td>\n",
       "    </tr>\n",
       "    <tr>\n",
       "      <th>1</th>\n",
       "      <td>192702</td>\n",
       "      <td>7.49</td>\n",
       "      <td>6.01</td>\n",
       "      <td>8.33</td>\n",
       "      <td>7.51</td>\n",
       "      <td>3.80</td>\n",
       "      <td>4.16</td>\n",
       "      <td>2.81</td>\n",
       "      <td>3.28</td>\n",
       "      <td>4.21</td>\n",
       "      <td>6.96</td>\n",
       "    </tr>\n",
       "    <tr>\n",
       "      <th>2</th>\n",
       "      <td>192703</td>\n",
       "      <td>-3.20</td>\n",
       "      <td>-2.99</td>\n",
       "      <td>-3.98</td>\n",
       "      <td>-4.76</td>\n",
       "      <td>-0.48</td>\n",
       "      <td>-2.40</td>\n",
       "      <td>2.10</td>\n",
       "      <td>0.61</td>\n",
       "      <td>0.89</td>\n",
       "      <td>5.47</td>\n",
       "    </tr>\n",
       "    <tr>\n",
       "      <th>3</th>\n",
       "      <td>192704</td>\n",
       "      <td>1.53</td>\n",
       "      <td>-2.87</td>\n",
       "      <td>-2.46</td>\n",
       "      <td>-1.34</td>\n",
       "      <td>2.59</td>\n",
       "      <td>-0.13</td>\n",
       "      <td>2.05</td>\n",
       "      <td>-0.59</td>\n",
       "      <td>1.64</td>\n",
       "      <td>5.49</td>\n",
       "    </tr>\n",
       "    <tr>\n",
       "      <th>4</th>\n",
       "      <td>192705</td>\n",
       "      <td>3.98</td>\n",
       "      <td>4.39</td>\n",
       "      <td>5.90</td>\n",
       "      <td>3.15</td>\n",
       "      <td>6.25</td>\n",
       "      <td>5.92</td>\n",
       "      <td>4.66</td>\n",
       "      <td>6.59</td>\n",
       "      <td>8.16</td>\n",
       "      <td>6.24</td>\n",
       "    </tr>\n",
       "  </tbody>\n",
       "</table>\n",
       "</div>"
      ],
      "text/plain": [
       "    month     1     2     3     4     5     6     7     8     9    10\n",
       "0  192701 -3.32 -4.62  2.66 -0.32 -0.41  0.96  0.77  0.36 -0.43 -0.24\n",
       "1  192702  7.49  6.01  8.33  7.51  3.80  4.16  2.81  3.28  4.21  6.96\n",
       "2  192703 -3.20 -2.99 -3.98 -4.76 -0.48 -2.40  2.10  0.61  0.89  5.47\n",
       "3  192704  1.53 -2.87 -2.46 -1.34  2.59 -0.13  2.05 -0.59  1.64  5.49\n",
       "4  192705  3.98  4.39  5.90  3.15  6.25  5.92  4.66  6.59  8.16  6.24"
      ]
     },
     "execution_count": 17,
     "metadata": {},
     "output_type": "execute_result"
    }
   ],
   "source": [
    "momentum_returns_df.columns=['month','1','2','3','4','5','6','7','8','9','10']\n",
    "momentum_returns_df.head()"
   ]
  },
  {
   "cell_type": "code",
   "execution_count": 18,
   "metadata": {
    "collapsed": false
   },
   "outputs": [
    {
     "data": {
      "text/html": [
       "<div>\n",
       "<table border=\"1\" class=\"dataframe\">\n",
       "  <thead>\n",
       "    <tr style=\"text-align: right;\">\n",
       "      <th></th>\n",
       "      <th>1</th>\n",
       "      <th>2</th>\n",
       "      <th>3</th>\n",
       "      <th>4</th>\n",
       "      <th>5</th>\n",
       "      <th>6</th>\n",
       "      <th>7</th>\n",
       "      <th>8</th>\n",
       "      <th>9</th>\n",
       "      <th>10</th>\n",
       "    </tr>\n",
       "    <tr>\n",
       "      <th>month</th>\n",
       "      <th></th>\n",
       "      <th></th>\n",
       "      <th></th>\n",
       "      <th></th>\n",
       "      <th></th>\n",
       "      <th></th>\n",
       "      <th></th>\n",
       "      <th></th>\n",
       "      <th></th>\n",
       "      <th></th>\n",
       "    </tr>\n",
       "  </thead>\n",
       "  <tbody>\n",
       "    <tr>\n",
       "      <th>192701</th>\n",
       "      <td>-3.32</td>\n",
       "      <td>-4.62</td>\n",
       "      <td>2.66</td>\n",
       "      <td>-0.32</td>\n",
       "      <td>-0.41</td>\n",
       "      <td>0.96</td>\n",
       "      <td>0.77</td>\n",
       "      <td>0.36</td>\n",
       "      <td>-0.43</td>\n",
       "      <td>-0.24</td>\n",
       "    </tr>\n",
       "    <tr>\n",
       "      <th>192702</th>\n",
       "      <td>7.49</td>\n",
       "      <td>6.01</td>\n",
       "      <td>8.33</td>\n",
       "      <td>7.51</td>\n",
       "      <td>3.80</td>\n",
       "      <td>4.16</td>\n",
       "      <td>2.81</td>\n",
       "      <td>3.28</td>\n",
       "      <td>4.21</td>\n",
       "      <td>6.96</td>\n",
       "    </tr>\n",
       "    <tr>\n",
       "      <th>192703</th>\n",
       "      <td>-3.20</td>\n",
       "      <td>-2.99</td>\n",
       "      <td>-3.98</td>\n",
       "      <td>-4.76</td>\n",
       "      <td>-0.48</td>\n",
       "      <td>-2.40</td>\n",
       "      <td>2.10</td>\n",
       "      <td>0.61</td>\n",
       "      <td>0.89</td>\n",
       "      <td>5.47</td>\n",
       "    </tr>\n",
       "    <tr>\n",
       "      <th>192704</th>\n",
       "      <td>1.53</td>\n",
       "      <td>-2.87</td>\n",
       "      <td>-2.46</td>\n",
       "      <td>-1.34</td>\n",
       "      <td>2.59</td>\n",
       "      <td>-0.13</td>\n",
       "      <td>2.05</td>\n",
       "      <td>-0.59</td>\n",
       "      <td>1.64</td>\n",
       "      <td>5.49</td>\n",
       "    </tr>\n",
       "    <tr>\n",
       "      <th>192705</th>\n",
       "      <td>3.98</td>\n",
       "      <td>4.39</td>\n",
       "      <td>5.90</td>\n",
       "      <td>3.15</td>\n",
       "      <td>6.25</td>\n",
       "      <td>5.92</td>\n",
       "      <td>4.66</td>\n",
       "      <td>6.59</td>\n",
       "      <td>8.16</td>\n",
       "      <td>6.24</td>\n",
       "    </tr>\n",
       "  </tbody>\n",
       "</table>\n",
       "</div>"
      ],
      "text/plain": [
       "           1     2     3     4     5     6     7     8     9    10\n",
       "month                                                             \n",
       "192701 -3.32 -4.62  2.66 -0.32 -0.41  0.96  0.77  0.36 -0.43 -0.24\n",
       "192702  7.49  6.01  8.33  7.51  3.80  4.16  2.81  3.28  4.21  6.96\n",
       "192703 -3.20 -2.99 -3.98 -4.76 -0.48 -2.40  2.10  0.61  0.89  5.47\n",
       "192704  1.53 -2.87 -2.46 -1.34  2.59 -0.13  2.05 -0.59  1.64  5.49\n",
       "192705  3.98  4.39  5.90  3.15  6.25  5.92  4.66  6.59  8.16  6.24"
      ]
     },
     "execution_count": 18,
     "metadata": {},
     "output_type": "execute_result"
    }
   ],
   "source": [
    "momentum_returns_df = momentum_returns_df.set_index('month')\n",
    "momentum_returns_df.head()"
   ]
  },
  {
   "cell_type": "code",
   "execution_count": 19,
   "metadata": {
    "collapsed": false
   },
   "outputs": [
    {
     "data": {
      "text/html": [
       "<div>\n",
       "<table border=\"1\" class=\"dataframe\">\n",
       "  <thead>\n",
       "    <tr style=\"text-align: right;\">\n",
       "      <th></th>\n",
       "      <th>1</th>\n",
       "      <th>2</th>\n",
       "      <th>3</th>\n",
       "      <th>4</th>\n",
       "      <th>5</th>\n",
       "      <th>6</th>\n",
       "      <th>7</th>\n",
       "      <th>8</th>\n",
       "      <th>9</th>\n",
       "      <th>10</th>\n",
       "    </tr>\n",
       "  </thead>\n",
       "  <tbody>\n",
       "    <tr>\n",
       "      <th>192701</th>\n",
       "      <td>-3.32</td>\n",
       "      <td>-4.62</td>\n",
       "      <td>2.66</td>\n",
       "      <td>-0.32</td>\n",
       "      <td>-0.41</td>\n",
       "      <td>0.96</td>\n",
       "      <td>0.77</td>\n",
       "      <td>0.36</td>\n",
       "      <td>-0.43</td>\n",
       "      <td>-0.24</td>\n",
       "    </tr>\n",
       "    <tr>\n",
       "      <th>192702</th>\n",
       "      <td>7.49</td>\n",
       "      <td>6.01</td>\n",
       "      <td>8.33</td>\n",
       "      <td>7.51</td>\n",
       "      <td>3.80</td>\n",
       "      <td>4.16</td>\n",
       "      <td>2.81</td>\n",
       "      <td>3.28</td>\n",
       "      <td>4.21</td>\n",
       "      <td>6.96</td>\n",
       "    </tr>\n",
       "    <tr>\n",
       "      <th>192703</th>\n",
       "      <td>-3.20</td>\n",
       "      <td>-2.99</td>\n",
       "      <td>-3.98</td>\n",
       "      <td>-4.76</td>\n",
       "      <td>-0.48</td>\n",
       "      <td>-2.40</td>\n",
       "      <td>2.10</td>\n",
       "      <td>0.61</td>\n",
       "      <td>0.89</td>\n",
       "      <td>5.47</td>\n",
       "    </tr>\n",
       "    <tr>\n",
       "      <th>192704</th>\n",
       "      <td>1.53</td>\n",
       "      <td>-2.87</td>\n",
       "      <td>-2.46</td>\n",
       "      <td>-1.34</td>\n",
       "      <td>2.59</td>\n",
       "      <td>-0.13</td>\n",
       "      <td>2.05</td>\n",
       "      <td>-0.59</td>\n",
       "      <td>1.64</td>\n",
       "      <td>5.49</td>\n",
       "    </tr>\n",
       "    <tr>\n",
       "      <th>192705</th>\n",
       "      <td>3.98</td>\n",
       "      <td>4.39</td>\n",
       "      <td>5.90</td>\n",
       "      <td>3.15</td>\n",
       "      <td>6.25</td>\n",
       "      <td>5.92</td>\n",
       "      <td>4.66</td>\n",
       "      <td>6.59</td>\n",
       "      <td>8.16</td>\n",
       "      <td>6.24</td>\n",
       "    </tr>\n",
       "  </tbody>\n",
       "</table>\n",
       "</div>"
      ],
      "text/plain": [
       "           1     2     3     4     5     6     7     8     9    10\n",
       "192701 -3.32 -4.62  2.66 -0.32 -0.41  0.96  0.77  0.36 -0.43 -0.24\n",
       "192702  7.49  6.01  8.33  7.51  3.80  4.16  2.81  3.28  4.21  6.96\n",
       "192703 -3.20 -2.99 -3.98 -4.76 -0.48 -2.40  2.10  0.61  0.89  5.47\n",
       "192704  1.53 -2.87 -2.46 -1.34  2.59 -0.13  2.05 -0.59  1.64  5.49\n",
       "192705  3.98  4.39  5.90  3.15  6.25  5.92  4.66  6.59  8.16  6.24"
      ]
     },
     "execution_count": 19,
     "metadata": {},
     "output_type": "execute_result"
    }
   ],
   "source": [
    "momentum_returns_df.index.name = None\n",
    "momentum_returns_df.head()"
   ]
  },
  {
   "cell_type": "markdown",
   "metadata": {},
   "source": [
    "### Each month, I take the highest decile of returns minus the lowest decile of returns"
   ]
  },
  {
   "cell_type": "code",
   "execution_count": 20,
   "metadata": {
    "collapsed": true
   },
   "outputs": [],
   "source": [
    "momentum_returns_df['high_minus_low'] = momentum_returns_df.max(axis=1) - momentum_returns_df.min(axis=1)"
   ]
  },
  {
   "cell_type": "code",
   "execution_count": 21,
   "metadata": {
    "collapsed": false
   },
   "outputs": [
    {
     "data": {
      "text/html": [
       "<div>\n",
       "<table border=\"1\" class=\"dataframe\">\n",
       "  <thead>\n",
       "    <tr style=\"text-align: right;\">\n",
       "      <th></th>\n",
       "      <th>1</th>\n",
       "      <th>2</th>\n",
       "      <th>3</th>\n",
       "      <th>4</th>\n",
       "      <th>5</th>\n",
       "      <th>6</th>\n",
       "      <th>7</th>\n",
       "      <th>8</th>\n",
       "      <th>9</th>\n",
       "      <th>10</th>\n",
       "      <th>high_minus_low</th>\n",
       "    </tr>\n",
       "  </thead>\n",
       "  <tbody>\n",
       "    <tr>\n",
       "      <th>192701</th>\n",
       "      <td>-3.32</td>\n",
       "      <td>-4.62</td>\n",
       "      <td>2.66</td>\n",
       "      <td>-0.32</td>\n",
       "      <td>-0.41</td>\n",
       "      <td>0.96</td>\n",
       "      <td>0.77</td>\n",
       "      <td>0.36</td>\n",
       "      <td>-0.43</td>\n",
       "      <td>-0.24</td>\n",
       "      <td>7.28</td>\n",
       "    </tr>\n",
       "    <tr>\n",
       "      <th>192702</th>\n",
       "      <td>7.49</td>\n",
       "      <td>6.01</td>\n",
       "      <td>8.33</td>\n",
       "      <td>7.51</td>\n",
       "      <td>3.80</td>\n",
       "      <td>4.16</td>\n",
       "      <td>2.81</td>\n",
       "      <td>3.28</td>\n",
       "      <td>4.21</td>\n",
       "      <td>6.96</td>\n",
       "      <td>5.52</td>\n",
       "    </tr>\n",
       "    <tr>\n",
       "      <th>192703</th>\n",
       "      <td>-3.20</td>\n",
       "      <td>-2.99</td>\n",
       "      <td>-3.98</td>\n",
       "      <td>-4.76</td>\n",
       "      <td>-0.48</td>\n",
       "      <td>-2.40</td>\n",
       "      <td>2.10</td>\n",
       "      <td>0.61</td>\n",
       "      <td>0.89</td>\n",
       "      <td>5.47</td>\n",
       "      <td>10.23</td>\n",
       "    </tr>\n",
       "    <tr>\n",
       "      <th>192704</th>\n",
       "      <td>1.53</td>\n",
       "      <td>-2.87</td>\n",
       "      <td>-2.46</td>\n",
       "      <td>-1.34</td>\n",
       "      <td>2.59</td>\n",
       "      <td>-0.13</td>\n",
       "      <td>2.05</td>\n",
       "      <td>-0.59</td>\n",
       "      <td>1.64</td>\n",
       "      <td>5.49</td>\n",
       "      <td>8.36</td>\n",
       "    </tr>\n",
       "    <tr>\n",
       "      <th>192705</th>\n",
       "      <td>3.98</td>\n",
       "      <td>4.39</td>\n",
       "      <td>5.90</td>\n",
       "      <td>3.15</td>\n",
       "      <td>6.25</td>\n",
       "      <td>5.92</td>\n",
       "      <td>4.66</td>\n",
       "      <td>6.59</td>\n",
       "      <td>8.16</td>\n",
       "      <td>6.24</td>\n",
       "      <td>5.01</td>\n",
       "    </tr>\n",
       "  </tbody>\n",
       "</table>\n",
       "</div>"
      ],
      "text/plain": [
       "           1     2     3     4     5     6     7     8     9    10  \\\n",
       "192701 -3.32 -4.62  2.66 -0.32 -0.41  0.96  0.77  0.36 -0.43 -0.24   \n",
       "192702  7.49  6.01  8.33  7.51  3.80  4.16  2.81  3.28  4.21  6.96   \n",
       "192703 -3.20 -2.99 -3.98 -4.76 -0.48 -2.40  2.10  0.61  0.89  5.47   \n",
       "192704  1.53 -2.87 -2.46 -1.34  2.59 -0.13  2.05 -0.59  1.64  5.49   \n",
       "192705  3.98  4.39  5.90  3.15  6.25  5.92  4.66  6.59  8.16  6.24   \n",
       "\n",
       "        high_minus_low  \n",
       "192701            7.28  \n",
       "192702            5.52  \n",
       "192703           10.23  \n",
       "192704            8.36  \n",
       "192705            5.01  "
      ]
     },
     "execution_count": 21,
     "metadata": {},
     "output_type": "execute_result"
    }
   ],
   "source": [
    "momentum_returns_df.head()"
   ]
  },
  {
   "cell_type": "code",
   "execution_count": 22,
   "metadata": {
    "collapsed": true
   },
   "outputs": [],
   "source": [
    "momentum_returns_df=momentum_returns_df.rename(\n",
    "    columns = {\n",
    "        'high_minus_low':'WML_returns'\n",
    "    }\n",
    ")"
   ]
  },
  {
   "cell_type": "code",
   "execution_count": 23,
   "metadata": {
    "collapsed": false
   },
   "outputs": [
    {
     "data": {
      "text/html": [
       "<div>\n",
       "<table border=\"1\" class=\"dataframe\">\n",
       "  <thead>\n",
       "    <tr style=\"text-align: right;\">\n",
       "      <th></th>\n",
       "      <th>1</th>\n",
       "      <th>2</th>\n",
       "      <th>3</th>\n",
       "      <th>4</th>\n",
       "      <th>5</th>\n",
       "      <th>6</th>\n",
       "      <th>7</th>\n",
       "      <th>8</th>\n",
       "      <th>9</th>\n",
       "      <th>10</th>\n",
       "      <th>WML_returns</th>\n",
       "    </tr>\n",
       "  </thead>\n",
       "  <tbody>\n",
       "    <tr>\n",
       "      <th>192701</th>\n",
       "      <td>-3.32</td>\n",
       "      <td>-4.62</td>\n",
       "      <td>2.66</td>\n",
       "      <td>-0.32</td>\n",
       "      <td>-0.41</td>\n",
       "      <td>0.96</td>\n",
       "      <td>0.77</td>\n",
       "      <td>0.36</td>\n",
       "      <td>-0.43</td>\n",
       "      <td>-0.24</td>\n",
       "      <td>7.28</td>\n",
       "    </tr>\n",
       "    <tr>\n",
       "      <th>192702</th>\n",
       "      <td>7.49</td>\n",
       "      <td>6.01</td>\n",
       "      <td>8.33</td>\n",
       "      <td>7.51</td>\n",
       "      <td>3.80</td>\n",
       "      <td>4.16</td>\n",
       "      <td>2.81</td>\n",
       "      <td>3.28</td>\n",
       "      <td>4.21</td>\n",
       "      <td>6.96</td>\n",
       "      <td>5.52</td>\n",
       "    </tr>\n",
       "    <tr>\n",
       "      <th>192703</th>\n",
       "      <td>-3.20</td>\n",
       "      <td>-2.99</td>\n",
       "      <td>-3.98</td>\n",
       "      <td>-4.76</td>\n",
       "      <td>-0.48</td>\n",
       "      <td>-2.40</td>\n",
       "      <td>2.10</td>\n",
       "      <td>0.61</td>\n",
       "      <td>0.89</td>\n",
       "      <td>5.47</td>\n",
       "      <td>10.23</td>\n",
       "    </tr>\n",
       "    <tr>\n",
       "      <th>192704</th>\n",
       "      <td>1.53</td>\n",
       "      <td>-2.87</td>\n",
       "      <td>-2.46</td>\n",
       "      <td>-1.34</td>\n",
       "      <td>2.59</td>\n",
       "      <td>-0.13</td>\n",
       "      <td>2.05</td>\n",
       "      <td>-0.59</td>\n",
       "      <td>1.64</td>\n",
       "      <td>5.49</td>\n",
       "      <td>8.36</td>\n",
       "    </tr>\n",
       "    <tr>\n",
       "      <th>192705</th>\n",
       "      <td>3.98</td>\n",
       "      <td>4.39</td>\n",
       "      <td>5.90</td>\n",
       "      <td>3.15</td>\n",
       "      <td>6.25</td>\n",
       "      <td>5.92</td>\n",
       "      <td>4.66</td>\n",
       "      <td>6.59</td>\n",
       "      <td>8.16</td>\n",
       "      <td>6.24</td>\n",
       "      <td>5.01</td>\n",
       "    </tr>\n",
       "  </tbody>\n",
       "</table>\n",
       "</div>"
      ],
      "text/plain": [
       "           1     2     3     4     5     6     7     8     9    10  \\\n",
       "192701 -3.32 -4.62  2.66 -0.32 -0.41  0.96  0.77  0.36 -0.43 -0.24   \n",
       "192702  7.49  6.01  8.33  7.51  3.80  4.16  2.81  3.28  4.21  6.96   \n",
       "192703 -3.20 -2.99 -3.98 -4.76 -0.48 -2.40  2.10  0.61  0.89  5.47   \n",
       "192704  1.53 -2.87 -2.46 -1.34  2.59 -0.13  2.05 -0.59  1.64  5.49   \n",
       "192705  3.98  4.39  5.90  3.15  6.25  5.92  4.66  6.59  8.16  6.24   \n",
       "\n",
       "        WML_returns  \n",
       "192701         7.28  \n",
       "192702         5.52  \n",
       "192703        10.23  \n",
       "192704         8.36  \n",
       "192705         5.01  "
      ]
     },
     "execution_count": 23,
     "metadata": {},
     "output_type": "execute_result"
    }
   ],
   "source": [
    "momentum_returns_df.head()"
   ]
  },
  {
   "cell_type": "code",
   "execution_count": 24,
   "metadata": {
    "collapsed": false
   },
   "outputs": [
    {
     "data": {
      "image/png": "[encoded data removed]",
      "text/plain": [
       "<matplotlib.figure.Figure at 0x10f6f2cc0>"
      ]
     },
     "metadata": {},
     "output_type": "display_data"
    }
   ],
   "source": [
    "plt.plot(momentum_returns_df['WML_returns'])\n",
    "plt.xlabel('Year-Month')\n",
    "plt.ylabel('WML Returns')\n",
    "plt.title('Monthly WML Returns from Jan 1927 to May 2017');\n",
    "plt.show()"
   ]
  },
  {
   "cell_type": "code",
   "execution_count": 25,
   "metadata": {
    "collapsed": false
   },
   "outputs": [
    {
     "data": {
      "image/png": "[encoded data removed]",
      "text/plain": [
       "<matplotlib.figure.Figure at 0x10f8a6358>"
      ]
     },
     "metadata": {},
     "output_type": "display_data"
    }
   ],
   "source": [
    "plt.hist(momentum_returns_df['WML_returns'])\n",
    "plt.xlabel('WML Returns')\n",
    "plt.ylabel('Frequency')\n",
    "plt.title('Monthly WML Returns from Jan 1927 to May 2017');\n",
    "plt.show()"
   ]
  },
  {
   "cell_type": "code",
   "execution_count": 26,
   "metadata": {
    "collapsed": false
   },
   "outputs": [
    {
     "data": {
      "text/plain": [
       "count    1085.000000\n",
       "mean        7.651152\n",
       "std         5.886184\n",
       "min         1.070000\n",
       "25%         4.250000\n",
       "50%         6.200000\n",
       "75%         9.000000\n",
       "max        77.020000\n",
       "Name: WML_returns, dtype: float64"
      ]
     },
     "execution_count": 26,
     "metadata": {},
     "output_type": "execute_result"
    }
   ],
   "source": [
    "momentum_returns_df['WML_returns'].describe()"
   ]
  },
  {
   "cell_type": "code",
   "execution_count": 28,
   "metadata": {
    "collapsed": false
   },
   "outputs": [
    {
     "name": "stdout",
     "output_type": "stream",
     "text": [
      "Kurtosis: 32.3861147105\n",
      "Skewness: 4.22810375746\n"
     ]
    }
   ],
   "source": [
    "print('Kurtosis: ' + str(momentum_returns_df['WML_returns'].kurtosis()))\n",
    "print('Skewness: '+ str(momentum_returns_df['WML_returns'].skew()))\n"
   ]
  },
  {
   "cell_type": "markdown",
   "metadata": {},
   "source": [
    "As talked about at length in the paper, kurtosis and skewness are measures that should be kept as low as possible, and this is what the risk-managed momentum strategy seeks. At the end of this implementation, we will see if this is the case."
   ]
  },
  {
   "cell_type": "markdown",
   "metadata": {},
   "source": [
    "### Now I import daily returns in order to calculate realized variances or standard deviations with a 6-month lookback. We are now implementing the risk-managed momentum strategy."
   ]
  },
  {
   "cell_type": "code",
   "execution_count": 42,
   "metadata": {
    "collapsed": true
   },
   "outputs": [],
   "source": [
    "daily_returns_df = pd.read_csv('/Users/anuraaggopaluni/bualpha/research-papers/notebooks/momentum-moments/Daily Returns.csv')"
   ]
  },
  {
   "cell_type": "markdown",
   "metadata": {},
   "source": [
    "**Daily Returns:** November 3, 1926 - May 31, 2017\n",
    " \t \t \n",
    "**Construction:** The portfolios are constructed daily using NYSE prior (2-12) return decile breakpoints.\n",
    " \t \t \n",
    "**Stocks:** The portfolios constructed each day include NYSE, AMEX, and NASDAQ stocks with prior return data. To be included in a portfolio for day t, a stock must have a price for the day t-251 and a good return for t-21. In addition, any missing returns from day t-250 to t-22 must be -99.0, CRSP's code for a missing price. Each included stock also must have ME for the end of day t-1.\n",
    " "
   ]
  },
  {
   "cell_type": "code",
   "execution_count": 43,
   "metadata": {
    "collapsed": false
   },
   "outputs": [
    {
     "data": {
      "text/html": [
       "<div>\n",
       "<table border=\"1\" class=\"dataframe\">\n",
       "  <thead>\n",
       "    <tr style=\"text-align: right;\">\n",
       "      <th></th>\n",
       "      <th>Unnamed: 0</th>\n",
       "      <th>Lo PRIOR</th>\n",
       "      <th>PRIOR 2</th>\n",
       "      <th>PRIOR 3</th>\n",
       "      <th>PRIOR 4</th>\n",
       "      <th>PRIOR 5</th>\n",
       "      <th>PRIOR 6</th>\n",
       "      <th>PRIOR 7</th>\n",
       "      <th>PRIOR 8</th>\n",
       "      <th>PRIOR 9</th>\n",
       "      <th>Hi PRIOR</th>\n",
       "    </tr>\n",
       "  </thead>\n",
       "  <tbody>\n",
       "    <tr>\n",
       "      <th>0</th>\n",
       "      <td>19261103</td>\n",
       "      <td>-0.12</td>\n",
       "      <td>0.58</td>\n",
       "      <td>-0.09</td>\n",
       "      <td>0.30</td>\n",
       "      <td>-0.49</td>\n",
       "      <td>-0.23</td>\n",
       "      <td>-0.12</td>\n",
       "      <td>0.42</td>\n",
       "      <td>0.12</td>\n",
       "      <td>1.28</td>\n",
       "    </tr>\n",
       "    <tr>\n",
       "      <th>1</th>\n",
       "      <td>19261104</td>\n",
       "      <td>0.65</td>\n",
       "      <td>1.38</td>\n",
       "      <td>1.58</td>\n",
       "      <td>0.57</td>\n",
       "      <td>1.01</td>\n",
       "      <td>0.70</td>\n",
       "      <td>0.81</td>\n",
       "      <td>0.44</td>\n",
       "      <td>0.47</td>\n",
       "      <td>0.40</td>\n",
       "    </tr>\n",
       "    <tr>\n",
       "      <th>2</th>\n",
       "      <td>19261105</td>\n",
       "      <td>-0.84</td>\n",
       "      <td>-0.75</td>\n",
       "      <td>-0.20</td>\n",
       "      <td>-0.15</td>\n",
       "      <td>-0.03</td>\n",
       "      <td>0.11</td>\n",
       "      <td>-0.13</td>\n",
       "      <td>0.36</td>\n",
       "      <td>0.20</td>\n",
       "      <td>0.08</td>\n",
       "    </tr>\n",
       "    <tr>\n",
       "      <th>3</th>\n",
       "      <td>19261106</td>\n",
       "      <td>1.03</td>\n",
       "      <td>0.29</td>\n",
       "      <td>0.26</td>\n",
       "      <td>0.37</td>\n",
       "      <td>0.18</td>\n",
       "      <td>0.64</td>\n",
       "      <td>0.10</td>\n",
       "      <td>0.09</td>\n",
       "      <td>0.40</td>\n",
       "      <td>-0.68</td>\n",
       "    </tr>\n",
       "    <tr>\n",
       "      <th>4</th>\n",
       "      <td>19261108</td>\n",
       "      <td>-0.03</td>\n",
       "      <td>0.07</td>\n",
       "      <td>1.80</td>\n",
       "      <td>0.28</td>\n",
       "      <td>0.31</td>\n",
       "      <td>0.25</td>\n",
       "      <td>0.30</td>\n",
       "      <td>1.17</td>\n",
       "      <td>0.58</td>\n",
       "      <td>-0.18</td>\n",
       "    </tr>\n",
       "  </tbody>\n",
       "</table>\n",
       "</div>"
      ],
      "text/plain": [
       "   Unnamed: 0  Lo PRIOR  PRIOR 2  PRIOR 3  PRIOR 4  PRIOR 5  PRIOR 6  PRIOR 7  \\\n",
       "0    19261103     -0.12     0.58    -0.09     0.30    -0.49    -0.23    -0.12   \n",
       "1    19261104      0.65     1.38     1.58     0.57     1.01     0.70     0.81   \n",
       "2    19261105     -0.84    -0.75    -0.20    -0.15    -0.03     0.11    -0.13   \n",
       "3    19261106      1.03     0.29     0.26     0.37     0.18     0.64     0.10   \n",
       "4    19261108     -0.03     0.07     1.80     0.28     0.31     0.25     0.30   \n",
       "\n",
       "   PRIOR 8  PRIOR 9  Hi PRIOR  \n",
       "0     0.42     0.12      1.28  \n",
       "1     0.44     0.47      0.40  \n",
       "2     0.36     0.20      0.08  \n",
       "3     0.09     0.40     -0.68  \n",
       "4     1.17     0.58     -0.18  "
      ]
     },
     "execution_count": 43,
     "metadata": {},
     "output_type": "execute_result"
    }
   ],
   "source": [
    "daily_returns_df.head()"
   ]
  },
  {
   "cell_type": "code",
   "execution_count": 44,
   "metadata": {
    "collapsed": false
   },
   "outputs": [
    {
     "data": {
      "text/html": [
       "<div>\n",
       "<table border=\"1\" class=\"dataframe\">\n",
       "  <thead>\n",
       "    <tr style=\"text-align: right;\">\n",
       "      <th></th>\n",
       "      <th>month</th>\n",
       "      <th>1</th>\n",
       "      <th>2</th>\n",
       "      <th>3</th>\n",
       "      <th>4</th>\n",
       "      <th>5</th>\n",
       "      <th>6</th>\n",
       "      <th>7</th>\n",
       "      <th>8</th>\n",
       "      <th>9</th>\n",
       "      <th>10</th>\n",
       "    </tr>\n",
       "  </thead>\n",
       "  <tbody>\n",
       "    <tr>\n",
       "      <th>0</th>\n",
       "      <td>19261103</td>\n",
       "      <td>-0.12</td>\n",
       "      <td>0.58</td>\n",
       "      <td>-0.09</td>\n",
       "      <td>0.30</td>\n",
       "      <td>-0.49</td>\n",
       "      <td>-0.23</td>\n",
       "      <td>-0.12</td>\n",
       "      <td>0.42</td>\n",
       "      <td>0.12</td>\n",
       "      <td>1.28</td>\n",
       "    </tr>\n",
       "    <tr>\n",
       "      <th>1</th>\n",
       "      <td>19261104</td>\n",
       "      <td>0.65</td>\n",
       "      <td>1.38</td>\n",
       "      <td>1.58</td>\n",
       "      <td>0.57</td>\n",
       "      <td>1.01</td>\n",
       "      <td>0.70</td>\n",
       "      <td>0.81</td>\n",
       "      <td>0.44</td>\n",
       "      <td>0.47</td>\n",
       "      <td>0.40</td>\n",
       "    </tr>\n",
       "    <tr>\n",
       "      <th>2</th>\n",
       "      <td>19261105</td>\n",
       "      <td>-0.84</td>\n",
       "      <td>-0.75</td>\n",
       "      <td>-0.20</td>\n",
       "      <td>-0.15</td>\n",
       "      <td>-0.03</td>\n",
       "      <td>0.11</td>\n",
       "      <td>-0.13</td>\n",
       "      <td>0.36</td>\n",
       "      <td>0.20</td>\n",
       "      <td>0.08</td>\n",
       "    </tr>\n",
       "    <tr>\n",
       "      <th>3</th>\n",
       "      <td>19261106</td>\n",
       "      <td>1.03</td>\n",
       "      <td>0.29</td>\n",
       "      <td>0.26</td>\n",
       "      <td>0.37</td>\n",
       "      <td>0.18</td>\n",
       "      <td>0.64</td>\n",
       "      <td>0.10</td>\n",
       "      <td>0.09</td>\n",
       "      <td>0.40</td>\n",
       "      <td>-0.68</td>\n",
       "    </tr>\n",
       "    <tr>\n",
       "      <th>4</th>\n",
       "      <td>19261108</td>\n",
       "      <td>-0.03</td>\n",
       "      <td>0.07</td>\n",
       "      <td>1.80</td>\n",
       "      <td>0.28</td>\n",
       "      <td>0.31</td>\n",
       "      <td>0.25</td>\n",
       "      <td>0.30</td>\n",
       "      <td>1.17</td>\n",
       "      <td>0.58</td>\n",
       "      <td>-0.18</td>\n",
       "    </tr>\n",
       "  </tbody>\n",
       "</table>\n",
       "</div>"
      ],
      "text/plain": [
       "      month     1     2     3     4     5     6     7     8     9    10\n",
       "0  19261103 -0.12  0.58 -0.09  0.30 -0.49 -0.23 -0.12  0.42  0.12  1.28\n",
       "1  19261104  0.65  1.38  1.58  0.57  1.01  0.70  0.81  0.44  0.47  0.40\n",
       "2  19261105 -0.84 -0.75 -0.20 -0.15 -0.03  0.11 -0.13  0.36  0.20  0.08\n",
       "3  19261106  1.03  0.29  0.26  0.37  0.18  0.64  0.10  0.09  0.40 -0.68\n",
       "4  19261108 -0.03  0.07  1.80  0.28  0.31  0.25  0.30  1.17  0.58 -0.18"
      ]
     },
     "execution_count": 44,
     "metadata": {},
     "output_type": "execute_result"
    }
   ],
   "source": [
    "daily_returns_df.columns=['month','1','2','3','4','5','6','7','8','9','10']\n",
    "daily_returns_df.head()"
   ]
  },
  {
   "cell_type": "code",
   "execution_count": 45,
   "metadata": {
    "collapsed": false
   },
   "outputs": [
    {
     "data": {
      "text/html": [
       "<div>\n",
       "<table border=\"1\" class=\"dataframe\">\n",
       "  <thead>\n",
       "    <tr style=\"text-align: right;\">\n",
       "      <th></th>\n",
       "      <th>1</th>\n",
       "      <th>2</th>\n",
       "      <th>3</th>\n",
       "      <th>4</th>\n",
       "      <th>5</th>\n",
       "      <th>6</th>\n",
       "      <th>7</th>\n",
       "      <th>8</th>\n",
       "      <th>9</th>\n",
       "      <th>10</th>\n",
       "    </tr>\n",
       "  </thead>\n",
       "  <tbody>\n",
       "    <tr>\n",
       "      <th>19261103</th>\n",
       "      <td>-0.12</td>\n",
       "      <td>0.58</td>\n",
       "      <td>-0.09</td>\n",
       "      <td>0.30</td>\n",
       "      <td>-0.49</td>\n",
       "      <td>-0.23</td>\n",
       "      <td>-0.12</td>\n",
       "      <td>0.42</td>\n",
       "      <td>0.12</td>\n",
       "      <td>1.28</td>\n",
       "    </tr>\n",
       "    <tr>\n",
       "      <th>19261104</th>\n",
       "      <td>0.65</td>\n",
       "      <td>1.38</td>\n",
       "      <td>1.58</td>\n",
       "      <td>0.57</td>\n",
       "      <td>1.01</td>\n",
       "      <td>0.70</td>\n",
       "      <td>0.81</td>\n",
       "      <td>0.44</td>\n",
       "      <td>0.47</td>\n",
       "      <td>0.40</td>\n",
       "    </tr>\n",
       "    <tr>\n",
       "      <th>19261105</th>\n",
       "      <td>-0.84</td>\n",
       "      <td>-0.75</td>\n",
       "      <td>-0.20</td>\n",
       "      <td>-0.15</td>\n",
       "      <td>-0.03</td>\n",
       "      <td>0.11</td>\n",
       "      <td>-0.13</td>\n",
       "      <td>0.36</td>\n",
       "      <td>0.20</td>\n",
       "      <td>0.08</td>\n",
       "    </tr>\n",
       "    <tr>\n",
       "      <th>19261106</th>\n",
       "      <td>1.03</td>\n",
       "      <td>0.29</td>\n",
       "      <td>0.26</td>\n",
       "      <td>0.37</td>\n",
       "      <td>0.18</td>\n",
       "      <td>0.64</td>\n",
       "      <td>0.10</td>\n",
       "      <td>0.09</td>\n",
       "      <td>0.40</td>\n",
       "      <td>-0.68</td>\n",
       "    </tr>\n",
       "    <tr>\n",
       "      <th>19261108</th>\n",
       "      <td>-0.03</td>\n",
       "      <td>0.07</td>\n",
       "      <td>1.80</td>\n",
       "      <td>0.28</td>\n",
       "      <td>0.31</td>\n",
       "      <td>0.25</td>\n",
       "      <td>0.30</td>\n",
       "      <td>1.17</td>\n",
       "      <td>0.58</td>\n",
       "      <td>-0.18</td>\n",
       "    </tr>\n",
       "  </tbody>\n",
       "</table>\n",
       "</div>"
      ],
      "text/plain": [
       "             1     2     3     4     5     6     7     8     9    10\n",
       "19261103 -0.12  0.58 -0.09  0.30 -0.49 -0.23 -0.12  0.42  0.12  1.28\n",
       "19261104  0.65  1.38  1.58  0.57  1.01  0.70  0.81  0.44  0.47  0.40\n",
       "19261105 -0.84 -0.75 -0.20 -0.15 -0.03  0.11 -0.13  0.36  0.20  0.08\n",
       "19261106  1.03  0.29  0.26  0.37  0.18  0.64  0.10  0.09  0.40 -0.68\n",
       "19261108 -0.03  0.07  1.80  0.28  0.31  0.25  0.30  1.17  0.58 -0.18"
      ]
     },
     "execution_count": 45,
     "metadata": {},
     "output_type": "execute_result"
    }
   ],
   "source": [
    "daily_returns_df = daily_returns_df.set_index('month')\n",
    "daily_returns_df.index.name = None\n",
    "daily_returns_df.head()"
   ]
  },
  {
   "cell_type": "code",
   "execution_count": 46,
   "metadata": {
    "collapsed": false
   },
   "outputs": [
    {
     "data": {
      "text/html": [
       "<div>\n",
       "<table border=\"1\" class=\"dataframe\">\n",
       "  <thead>\n",
       "    <tr style=\"text-align: right;\">\n",
       "      <th></th>\n",
       "      <th>1</th>\n",
       "      <th>2</th>\n",
       "      <th>3</th>\n",
       "      <th>4</th>\n",
       "      <th>5</th>\n",
       "      <th>6</th>\n",
       "      <th>7</th>\n",
       "      <th>8</th>\n",
       "      <th>9</th>\n",
       "      <th>10</th>\n",
       "      <th>WML_daily</th>\n",
       "    </tr>\n",
       "  </thead>\n",
       "  <tbody>\n",
       "    <tr>\n",
       "      <th>19261103</th>\n",
       "      <td>-0.12</td>\n",
       "      <td>0.58</td>\n",
       "      <td>-0.09</td>\n",
       "      <td>0.30</td>\n",
       "      <td>-0.49</td>\n",
       "      <td>-0.23</td>\n",
       "      <td>-0.12</td>\n",
       "      <td>0.42</td>\n",
       "      <td>0.12</td>\n",
       "      <td>1.28</td>\n",
       "      <td>1.77</td>\n",
       "    </tr>\n",
       "    <tr>\n",
       "      <th>19261104</th>\n",
       "      <td>0.65</td>\n",
       "      <td>1.38</td>\n",
       "      <td>1.58</td>\n",
       "      <td>0.57</td>\n",
       "      <td>1.01</td>\n",
       "      <td>0.70</td>\n",
       "      <td>0.81</td>\n",
       "      <td>0.44</td>\n",
       "      <td>0.47</td>\n",
       "      <td>0.40</td>\n",
       "      <td>1.18</td>\n",
       "    </tr>\n",
       "    <tr>\n",
       "      <th>19261105</th>\n",
       "      <td>-0.84</td>\n",
       "      <td>-0.75</td>\n",
       "      <td>-0.20</td>\n",
       "      <td>-0.15</td>\n",
       "      <td>-0.03</td>\n",
       "      <td>0.11</td>\n",
       "      <td>-0.13</td>\n",
       "      <td>0.36</td>\n",
       "      <td>0.20</td>\n",
       "      <td>0.08</td>\n",
       "      <td>1.20</td>\n",
       "    </tr>\n",
       "    <tr>\n",
       "      <th>19261106</th>\n",
       "      <td>1.03</td>\n",
       "      <td>0.29</td>\n",
       "      <td>0.26</td>\n",
       "      <td>0.37</td>\n",
       "      <td>0.18</td>\n",
       "      <td>0.64</td>\n",
       "      <td>0.10</td>\n",
       "      <td>0.09</td>\n",
       "      <td>0.40</td>\n",
       "      <td>-0.68</td>\n",
       "      <td>1.71</td>\n",
       "    </tr>\n",
       "    <tr>\n",
       "      <th>19261108</th>\n",
       "      <td>-0.03</td>\n",
       "      <td>0.07</td>\n",
       "      <td>1.80</td>\n",
       "      <td>0.28</td>\n",
       "      <td>0.31</td>\n",
       "      <td>0.25</td>\n",
       "      <td>0.30</td>\n",
       "      <td>1.17</td>\n",
       "      <td>0.58</td>\n",
       "      <td>-0.18</td>\n",
       "      <td>1.98</td>\n",
       "    </tr>\n",
       "  </tbody>\n",
       "</table>\n",
       "</div>"
      ],
      "text/plain": [
       "             1     2     3     4     5     6     7     8     9    10  \\\n",
       "19261103 -0.12  0.58 -0.09  0.30 -0.49 -0.23 -0.12  0.42  0.12  1.28   \n",
       "19261104  0.65  1.38  1.58  0.57  1.01  0.70  0.81  0.44  0.47  0.40   \n",
       "19261105 -0.84 -0.75 -0.20 -0.15 -0.03  0.11 -0.13  0.36  0.20  0.08   \n",
       "19261106  1.03  0.29  0.26  0.37  0.18  0.64  0.10  0.09  0.40 -0.68   \n",
       "19261108 -0.03  0.07  1.80  0.28  0.31  0.25  0.30  1.17  0.58 -0.18   \n",
       "\n",
       "          WML_daily  \n",
       "19261103       1.77  \n",
       "19261104       1.18  \n",
       "19261105       1.20  \n",
       "19261106       1.71  \n",
       "19261108       1.98  "
      ]
     },
     "execution_count": 46,
     "metadata": {},
     "output_type": "execute_result"
    }
   ],
   "source": [
    "daily_returns_df['WML_daily'] = daily_returns_df.max(axis=1) - daily_returns_df.min(axis=1)\n",
    "daily_returns_df.head()"
   ]
  },
  {
   "cell_type": "code",
   "execution_count": 47,
   "metadata": {
    "collapsed": false
   },
   "outputs": [
    {
     "data": {
      "text/plain": [
       "19261103   NaN\n",
       "19261104   NaN\n",
       "19261105   NaN\n",
       "19261106   NaN\n",
       "19261108   NaN\n",
       "Name: WML_daily, dtype: float64"
      ]
     },
     "execution_count": 47,
     "metadata": {},
     "output_type": "execute_result"
    }
   ],
   "source": [
    "rolling_standard_deviation = daily_returns_df['WML_daily'].rolling(window=126, center=False).std()\n",
    "rolling_standard_deviation.head()"
   ]
  },
  {
   "cell_type": "code",
   "execution_count": 48,
   "metadata": {
    "collapsed": false
   },
   "outputs": [
    {
     "data": {
      "text/plain": [
       "19261103         NaN\n",
       "19261129         NaN\n",
       "19261223         NaN\n",
       "19270119         NaN\n",
       "19270214         NaN\n",
       "19270311         NaN\n",
       "19270405    0.672552\n",
       "19270430    0.635153\n",
       "19270525    0.584877\n",
       "19270621    0.576579\n",
       "Name: WML_daily, dtype: float64"
      ]
     },
     "execution_count": 48,
     "metadata": {},
     "output_type": "execute_result"
    }
   ],
   "source": [
    "rolling_standard_deviation = rolling_standard_deviation[::21]\n",
    "rolling_standard_deviation.head(10)"
   ]
  },
  {
   "cell_type": "code",
   "execution_count": 49,
   "metadata": {
    "collapsed": false
   },
   "outputs": [
    {
     "data": {
      "text/plain": [
       "19270405    0.672552\n",
       "19270430    0.635153\n",
       "19270525    0.584877\n",
       "19270621    0.576579\n",
       "19270716    0.546325\n",
       "Name: WML_daily, dtype: float64"
      ]
     },
     "execution_count": 49,
     "metadata": {},
     "output_type": "execute_result"
    }
   ],
   "source": [
    "rolling_standard_deviation = rolling_standard_deviation.iloc[6:]\n",
    "rolling_standard_deviation.head()"
   ]
  },
  {
   "cell_type": "markdown",
   "metadata": {},
   "source": [
    "### These are the 6-month realized standard deviations for approximately each month. Now, as noted by the paper, we want to divide these realized variances into the target variance of 0.12. Let's call this quotient \"scaled_standard_deviation\"."
   ]
  },
  {
   "cell_type": "code",
   "execution_count": 55,
   "metadata": {
    "collapsed": true
   },
   "outputs": [],
   "source": [
    "scaled_standard_deviation = .12/rolling_standard_deviation"
   ]
  },
  {
   "cell_type": "code",
   "execution_count": 56,
   "metadata": {
    "collapsed": false
   },
   "outputs": [
    {
     "data": {
      "text/plain": [
       "19270405    0.178425\n",
       "19270430    0.188931\n",
       "19270525    0.205171\n",
       "19270621    0.208124\n",
       "19270716    0.219650\n",
       "Name: WML_daily, dtype: float64"
      ]
     },
     "execution_count": 56,
     "metadata": {},
     "output_type": "execute_result"
    }
   ],
   "source": [
    "scaled_standard_deviation.head()"
   ]
  },
  {
   "cell_type": "code",
   "execution_count": 62,
   "metadata": {
    "collapsed": false
   },
   "outputs": [
    {
     "data": {
      "text/plain": [
       "1135"
      ]
     },
     "execution_count": 62,
     "metadata": {},
     "output_type": "execute_result"
    }
   ],
   "source": [
    "scaled_standard_deviation.count()"
   ]
  },
  {
   "cell_type": "code",
   "execution_count": 64,
   "metadata": {
    "collapsed": false
   },
   "outputs": [
    {
     "data": {
      "text/plain": [
       "20170411    0.175419\n",
       "20170511    0.175335\n",
       "20170612    0.208269\n",
       "20170712    0.204789\n",
       "20170810    0.202536\n",
       "Name: WML_daily, dtype: float64"
      ]
     },
     "execution_count": 64,
     "metadata": {},
     "output_type": "execute_result"
    }
   ],
   "source": [
    "scaled_standard_deviation.tail()"
   ]
  },
  {
   "cell_type": "code",
   "execution_count": 57,
   "metadata": {
    "collapsed": false
   },
   "outputs": [
    {
     "data": {
      "text/html": [
       "<div>\n",
       "<table border=\"1\" class=\"dataframe\">\n",
       "  <thead>\n",
       "    <tr style=\"text-align: right;\">\n",
       "      <th></th>\n",
       "      <th>1</th>\n",
       "      <th>2</th>\n",
       "      <th>3</th>\n",
       "      <th>4</th>\n",
       "      <th>5</th>\n",
       "      <th>6</th>\n",
       "      <th>7</th>\n",
       "      <th>8</th>\n",
       "      <th>9</th>\n",
       "      <th>10</th>\n",
       "      <th>WML_returns</th>\n",
       "    </tr>\n",
       "  </thead>\n",
       "  <tbody>\n",
       "    <tr>\n",
       "      <th>192701</th>\n",
       "      <td>-3.32</td>\n",
       "      <td>-4.62</td>\n",
       "      <td>2.66</td>\n",
       "      <td>-0.32</td>\n",
       "      <td>-0.41</td>\n",
       "      <td>0.96</td>\n",
       "      <td>0.77</td>\n",
       "      <td>0.36</td>\n",
       "      <td>-0.43</td>\n",
       "      <td>-0.24</td>\n",
       "      <td>7.28</td>\n",
       "    </tr>\n",
       "    <tr>\n",
       "      <th>192702</th>\n",
       "      <td>7.49</td>\n",
       "      <td>6.01</td>\n",
       "      <td>8.33</td>\n",
       "      <td>7.51</td>\n",
       "      <td>3.80</td>\n",
       "      <td>4.16</td>\n",
       "      <td>2.81</td>\n",
       "      <td>3.28</td>\n",
       "      <td>4.21</td>\n",
       "      <td>6.96</td>\n",
       "      <td>5.52</td>\n",
       "    </tr>\n",
       "    <tr>\n",
       "      <th>192703</th>\n",
       "      <td>-3.20</td>\n",
       "      <td>-2.99</td>\n",
       "      <td>-3.98</td>\n",
       "      <td>-4.76</td>\n",
       "      <td>-0.48</td>\n",
       "      <td>-2.40</td>\n",
       "      <td>2.10</td>\n",
       "      <td>0.61</td>\n",
       "      <td>0.89</td>\n",
       "      <td>5.47</td>\n",
       "      <td>10.23</td>\n",
       "    </tr>\n",
       "    <tr>\n",
       "      <th>192704</th>\n",
       "      <td>1.53</td>\n",
       "      <td>-2.87</td>\n",
       "      <td>-2.46</td>\n",
       "      <td>-1.34</td>\n",
       "      <td>2.59</td>\n",
       "      <td>-0.13</td>\n",
       "      <td>2.05</td>\n",
       "      <td>-0.59</td>\n",
       "      <td>1.64</td>\n",
       "      <td>5.49</td>\n",
       "      <td>8.36</td>\n",
       "    </tr>\n",
       "    <tr>\n",
       "      <th>192705</th>\n",
       "      <td>3.98</td>\n",
       "      <td>4.39</td>\n",
       "      <td>5.90</td>\n",
       "      <td>3.15</td>\n",
       "      <td>6.25</td>\n",
       "      <td>5.92</td>\n",
       "      <td>4.66</td>\n",
       "      <td>6.59</td>\n",
       "      <td>8.16</td>\n",
       "      <td>6.24</td>\n",
       "      <td>5.01</td>\n",
       "    </tr>\n",
       "  </tbody>\n",
       "</table>\n",
       "</div>"
      ],
      "text/plain": [
       "           1     2     3     4     5     6     7     8     9    10  \\\n",
       "192701 -3.32 -4.62  2.66 -0.32 -0.41  0.96  0.77  0.36 -0.43 -0.24   \n",
       "192702  7.49  6.01  8.33  7.51  3.80  4.16  2.81  3.28  4.21  6.96   \n",
       "192703 -3.20 -2.99 -3.98 -4.76 -0.48 -2.40  2.10  0.61  0.89  5.47   \n",
       "192704  1.53 -2.87 -2.46 -1.34  2.59 -0.13  2.05 -0.59  1.64  5.49   \n",
       "192705  3.98  4.39  5.90  3.15  6.25  5.92  4.66  6.59  8.16  6.24   \n",
       "\n",
       "        WML_returns  \n",
       "192701         7.28  \n",
       "192702         5.52  \n",
       "192703        10.23  \n",
       "192704         8.36  \n",
       "192705         5.01  "
      ]
     },
     "execution_count": 57,
     "metadata": {},
     "output_type": "execute_result"
    }
   ],
   "source": [
    "momentum_returns_df.head()"
   ]
  },
  {
   "cell_type": "code",
   "execution_count": 63,
   "metadata": {
    "collapsed": false
   },
   "outputs": [
    {
     "data": {
      "text/plain": [
       "1              1085\n",
       "2              1085\n",
       "3              1085\n",
       "4              1085\n",
       "5              1085\n",
       "6              1085\n",
       "7              1085\n",
       "8              1085\n",
       "9              1085\n",
       "10             1085\n",
       "WML_returns    1085\n",
       "dtype: int64"
      ]
     },
     "execution_count": 63,
     "metadata": {},
     "output_type": "execute_result"
    }
   ],
   "source": [
    "momentum_returns_df.count()"
   ]
  },
  {
   "cell_type": "markdown",
   "metadata": {},
   "source": [
    "### Now we take the realized variances and multiply the scaled standard deviations to attain the \"scaled_WML\" "
   ]
  },
  {
   "cell_type": "code",
   "execution_count": 74,
   "metadata": {
    "collapsed": true
   },
   "outputs": [],
   "source": [
    "scaled_WML = scaled_standard_deviation.reset_index(drop=True) * momentum_returns_df['WML_returns'].reset_index(drop=True)"
   ]
  },
  {
   "cell_type": "code",
   "execution_count": 75,
   "metadata": {
    "collapsed": false
   },
   "outputs": [
    {
     "data": {
      "text/plain": [
       "1085"
      ]
     },
     "execution_count": 75,
     "metadata": {},
     "output_type": "execute_result"
    }
   ],
   "source": [
    "scaled_WML.count()"
   ]
  },
  {
   "cell_type": "markdown",
   "metadata": {},
   "source": [
    "To keep the scaled WML returns' series length to 1085 (after it was multiplied by the scaled_standard_deviation series that has a length og 1135 elements, we slice the scaled_WML series to its original length of 1085"
   ]
  },
  {
   "cell_type": "code",
   "execution_count": 76,
   "metadata": {
    "collapsed": false
   },
   "outputs": [
    {
     "data": {
      "text/plain": [
       "1              1085\n",
       "2              1085\n",
       "3              1085\n",
       "4              1085\n",
       "5              1085\n",
       "6              1085\n",
       "7              1085\n",
       "8              1085\n",
       "9              1085\n",
       "10             1085\n",
       "WML_returns    1085\n",
       "dtype: int64"
      ]
     },
     "execution_count": 76,
     "metadata": {},
     "output_type": "execute_result"
    }
   ],
   "source": [
    "momentum_returns_df.count()"
   ]
  },
  {
   "cell_type": "code",
   "execution_count": 77,
   "metadata": {
    "collapsed": false
   },
   "outputs": [
    {
     "data": {
      "text/plain": [
       "1080    0.572931\n",
       "1081    0.891910\n",
       "1082    0.723360\n",
       "1083    0.812012\n",
       "1084    1.737813\n",
       "dtype: float64"
      ]
     },
     "execution_count": 77,
     "metadata": {},
     "output_type": "execute_result"
    }
   ],
   "source": [
    "# why is this being sliced this way\n",
    "scaled_WML = scaled_WML[:1085]\n",
    "scaled_WML.tail()"
   ]
  },
  {
   "cell_type": "code",
   "execution_count": 78,
   "metadata": {
    "collapsed": false
   },
   "outputs": [
    {
     "data": {
      "text/plain": [
       "count    1085.000000\n",
       "mean        1.585160\n",
       "std         1.230204\n",
       "min         0.087218\n",
       "25%         0.760360\n",
       "50%         1.276937\n",
       "75%         2.035355\n",
       "max        11.544340\n",
       "dtype: float64"
      ]
     },
     "execution_count": 78,
     "metadata": {},
     "output_type": "execute_result"
    }
   ],
   "source": [
    "scaled_WML.describe()"
   ]
  },
  {
   "cell_type": "code",
   "execution_count": 80,
   "metadata": {
    "collapsed": false
   },
   "outputs": [
    {
     "data": {
      "image/png": "[encoded data removed]",
      "text/plain": [
       "<matplotlib.figure.Figure at 0x1138d2400>"
      ]
     },
     "metadata": {},
     "output_type": "display_data"
    }
   ],
   "source": [
    "plt.plot(scaled_WML)\n",
    "plt.xlabel('Year-Month')\n",
    "plt.ylabel('New WML Returns')\n",
    "plt.title('Monthly New WML Returns from Jan 1927 to May 2017');\n",
    "plt.show()"
   ]
  },
  {
   "cell_type": "code",
   "execution_count": 81,
   "metadata": {
    "collapsed": false
   },
   "outputs": [
    {
     "data": {
      "image/png": "[encoded data removed]",
      "text/plain": [
       "<matplotlib.figure.Figure at 0x10f777ba8>"
      ]
     },
     "metadata": {},
     "output_type": "display_data"
    }
   ],
   "source": [
    "plt.hist(scaled_WML)\n",
    "plt.xlabel('New WML Returns')\n",
    "plt.ylabel('Frequency')\n",
    "plt.title('Monthly New WML Returns from Jan 1927 to May 2017');\n",
    "plt.show()"
   ]
  },
  {
   "cell_type": "markdown",
   "metadata": {},
   "source": [
    "### Now, let's see if the kurtosis and skewness were actually lowered by the risk-managed momentum strategy:"
   ]
  },
  {
   "cell_type": "code",
   "execution_count": 84,
   "metadata": {
    "collapsed": false
   },
   "outputs": [
    {
     "name": "stdout",
     "output_type": "stream",
     "text": [
      "Kurtosis: 11.1143260604\n",
      "Skewness: 2.46737572173\n"
     ]
    }
   ],
   "source": [
    "print('Kurtosis: ' + str(scaled_WML.kurtosis()))\n",
    "print('Skewness: '+ str(scaled_WML.skew()))"
   ]
  },
  {
   "cell_type": "markdown",
   "metadata": {},
   "source": [
    "### Compared to the previously attained statistics of Kurtosis: 32.3861147105 and Skewness: 4.22810375746, these statistics (those of the risk-managed momentum) are clearly lower, which, as the paper discusses, is the goal. "
   ]
  }
 ],
 "metadata": {
  "kernelspec": {
   "display_name": "Python 3",
   "language": "python",
   "name": "python3"
  },
  "language_info": {
   "codemirror_mode": {
    "name": "ipython",
    "version": 3
   },
   "file_extension": ".py",
   "mimetype": "text/x-python",
   "name": "python",
   "nbconvert_exporter": "python",
   "pygments_lexer": "ipython3",
   "version": "3.6.0"
  }
 },
 "nbformat": 4,
 "nbformat_minor": 2
}
